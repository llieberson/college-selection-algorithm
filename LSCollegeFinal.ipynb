{
 "cells": [
  {
   "cell_type": "code",
   "execution_count": 1,
   "metadata": {},
   "outputs": [],
   "source": [
    "import pandas as pd\n",
    "import numpy as np\n",
    "import matplotlib.pyplot as plt\n",
    "import pylab\n",
    "df=pd.read_csv('/Users/larissalieberson/Desktop/data.csv', \n",
    "               low_memory=False)"
   ]
  },
  {
   "cell_type": "code",
   "execution_count": 2,
   "metadata": {
    "scrolled": false
   },
   "outputs": [],
   "source": [
    "Same_State = [47140,50420,59430,51832,57006,53430,51354,5960,55584,53740,54567,52362,55035,\n",
    "55656,49816,55188,47350,53391,13280,53399,51306,54104,14240,56225,55465,17350,5541,15262,53322,\n",
    "51828,14471,8986,15516,53926,55395,12424,6381,55464,21830,14463,14060,53948,49042,51387,54820,\n",
    "53932,11830,15998,53880,10606,10555,53458,52930,51853,50226,10726,10002,14974,18454,54493,11517,\n",
    "50530,55230,15730,10595,5620,45730,14970,10968,6507,52248,52202,13949,15887,19080,14693,13620,\n",
    "48459,45542,9808]\n",
    "df[\"Same_State\"]=Same_State\n",
    "\n"
   ]
  },
  {
   "cell_type": "code",
   "execution_count": 3,
   "metadata": {},
   "outputs": [
    {
     "name": "stdout",
     "output_type": "stream",
     "text": [
      "     College  Out of State Price  Population State  ACT  Same_State\n",
      "0  Princeton               47140        5394    NJ   34       47140\n",
      "1    Harvard               50420        6766    MA   34       50420\n",
      "2   Columbia               59430        6162    NY   34       59430\n",
      "3        MIT               51832        4547    MA   34       51832\n",
      "4   Uchicago               57006        6264    IL   34       57006\n"
     ]
    }
   ],
   "source": [
    "del df[\"In State Price\"]\n",
    "\n",
    "print(df.head())"
   ]
  },
  {
   "cell_type": "code",
   "execution_count": 4,
   "metadata": {},
   "outputs": [],
   "source": [
    "df.at[26,\"Same_State\"]=56382"
   ]
  },
  {
   "cell_type": "code",
   "execution_count": 5,
   "metadata": {},
   "outputs": [
    {
     "data": {
      "text/html": [
       "<div>\n",
       "<style scoped>\n",
       "    .dataframe tbody tr th:only-of-type {\n",
       "        vertical-align: middle;\n",
       "    }\n",
       "\n",
       "    .dataframe tbody tr th {\n",
       "        vertical-align: top;\n",
       "    }\n",
       "\n",
       "    .dataframe thead th {\n",
       "        text-align: right;\n",
       "    }\n",
       "</style>\n",
       "<table border=\"1\" class=\"dataframe\">\n",
       "  <thead>\n",
       "    <tr style=\"text-align: right;\">\n",
       "      <th></th>\n",
       "      <th>College</th>\n",
       "    </tr>\n",
       "    <tr>\n",
       "      <th>State</th>\n",
       "      <th></th>\n",
       "    </tr>\n",
       "  </thead>\n",
       "  <tbody>\n",
       "    <tr>\n",
       "      <th>CA</th>\n",
       "      <td>11</td>\n",
       "    </tr>\n",
       "    <tr>\n",
       "      <th>CT</th>\n",
       "      <td>2</td>\n",
       "    </tr>\n",
       "    <tr>\n",
       "      <th>DC</th>\n",
       "      <td>3</td>\n",
       "    </tr>\n",
       "    <tr>\n",
       "      <th>FL</th>\n",
       "      <td>3</td>\n",
       "    </tr>\n",
       "    <tr>\n",
       "      <th>GA</th>\n",
       "      <td>3</td>\n",
       "    </tr>\n",
       "    <tr>\n",
       "      <th>IL</th>\n",
       "      <td>3</td>\n",
       "    </tr>\n",
       "    <tr>\n",
       "      <th>IN</th>\n",
       "      <td>2</td>\n",
       "    </tr>\n",
       "    <tr>\n",
       "      <th>LA</th>\n",
       "      <td>1</td>\n",
       "    </tr>\n",
       "    <tr>\n",
       "      <th>MA</th>\n",
       "      <td>10</td>\n",
       "    </tr>\n",
       "    <tr>\n",
       "      <th>MD</th>\n",
       "      <td>2</td>\n",
       "    </tr>\n",
       "    <tr>\n",
       "      <th>MI</th>\n",
       "      <td>1</td>\n",
       "    </tr>\n",
       "    <tr>\n",
       "      <th>MN</th>\n",
       "      <td>1</td>\n",
       "    </tr>\n",
       "    <tr>\n",
       "      <th>MO</th>\n",
       "      <td>1</td>\n",
       "    </tr>\n",
       "    <tr>\n",
       "      <th>NC</th>\n",
       "      <td>3</td>\n",
       "    </tr>\n",
       "    <tr>\n",
       "      <th>NH</th>\n",
       "      <td>1</td>\n",
       "    </tr>\n",
       "    <tr>\n",
       "      <th>NJ</th>\n",
       "      <td>3</td>\n",
       "    </tr>\n",
       "    <tr>\n",
       "      <th>NY</th>\n",
       "      <td>8</td>\n",
       "    </tr>\n",
       "    <tr>\n",
       "      <th>OH</th>\n",
       "      <td>2</td>\n",
       "    </tr>\n",
       "    <tr>\n",
       "      <th>PA</th>\n",
       "      <td>6</td>\n",
       "    </tr>\n",
       "    <tr>\n",
       "      <th>RI</th>\n",
       "      <td>1</td>\n",
       "    </tr>\n",
       "    <tr>\n",
       "      <th>SC</th>\n",
       "      <td>1</td>\n",
       "    </tr>\n",
       "    <tr>\n",
       "      <th>TN</th>\n",
       "      <td>1</td>\n",
       "    </tr>\n",
       "    <tr>\n",
       "      <th>TX</th>\n",
       "      <td>5</td>\n",
       "    </tr>\n",
       "    <tr>\n",
       "      <th>UT</th>\n",
       "      <td>1</td>\n",
       "    </tr>\n",
       "    <tr>\n",
       "      <th>VA</th>\n",
       "      <td>3</td>\n",
       "    </tr>\n",
       "    <tr>\n",
       "      <th>WA</th>\n",
       "      <td>1</td>\n",
       "    </tr>\n",
       "    <tr>\n",
       "      <th>WI</th>\n",
       "      <td>1</td>\n",
       "    </tr>\n",
       "  </tbody>\n",
       "</table>\n",
       "</div>"
      ],
      "text/plain": [
       "       College\n",
       "State         \n",
       "CA          11\n",
       "CT           2\n",
       "DC           3\n",
       "FL           3\n",
       "GA           3\n",
       "IL           3\n",
       "IN           2\n",
       "LA           1\n",
       "MA          10\n",
       "MD           2\n",
       "MI           1\n",
       "MN           1\n",
       "MO           1\n",
       "NC           3\n",
       "NH           1\n",
       "NJ           3\n",
       "NY           8\n",
       "OH           2\n",
       "PA           6\n",
       "RI           1\n",
       "SC           1\n",
       "TN           1\n",
       "TX           5\n",
       "UT           1\n",
       "VA           3\n",
       "WA           1\n",
       "WI           1"
      ]
     },
     "execution_count": 5,
     "metadata": {},
     "output_type": "execute_result"
    }
   ],
   "source": [
    "df.groupby(['State'])[['College']].count()"
   ]
  },
  {
   "cell_type": "code",
   "execution_count": 6,
   "metadata": {},
   "outputs": [
    {
     "data": {
      "image/png": "[encoded data removed]",
      "text/plain": [
       "<Figure size 432x288 with 1 Axes>"
      ]
     },
     "metadata": {},
     "output_type": "display_data"
    }
   ],
   "source": [
    "x = [27,28,29,30,31,32,33,34,35]\n",
    "y = df['ACT'].value_counts()\n",
    "\n",
    "plt.title('ACT scores across schools')\n",
    "x_positions = np.arange(len(x)) \n",
    "plt.xticks(x_positions, x)\n",
    "plt.ylabel('Number of schools')\n",
    "plt.bar(x_positions, y, align='center', alpha=0.7, color='g')\n",
    " \n",
    "plt.show()"
   ]
  },
  {
   "cell_type": "code",
   "execution_count": 7,
   "metadata": {},
   "outputs": [
    {
     "data": {
      "image/png": "[encoded data removed]",
      "text/plain": [
       "<Figure size 432x288 with 1 Axes>"
      ]
     },
     "metadata": {},
     "output_type": "display_data"
    }
   ],
   "source": [
    "pylab.axes(aspect=1) \n",
    "\n",
    "values = df['ACT'].value_counts()\n",
    "pie_labels = [27,28,29,30,31,32,33,34,35]\n",
    "color_list = ['aqua', 'navy', 'b', 'aquamarine', 'cyan', 'indigo', 'teal', 'turquoise','darkblue']\n",
    "\n",
    "pylab.title('Number of schools by avg. ACT')\n",
    "pylab.pie(values, labels=pie_labels, colors = color_list)\n",
    "\n",
    "\n",
    "pylab.show()"
   ]
  },
  {
   "cell_type": "code",
   "execution_count": 8,
   "metadata": {
    "scrolled": true
   },
   "outputs": [
    {
     "name": "stdout",
     "output_type": "stream",
     "text": [
      "What state are you from?\n",
      "You should look at: \n",
      "Series([], Name: College, dtype: object)\n",
      "Because price may be lower, at a cost of: \n",
      "Series([], Name: Same_State, dtype: int64)\n",
      "And because you will be close to home!\n"
     ]
    }
   ],
   "source": [
    "s=input(str(\"What state are you from?\"))\n",
    "r=df.loc[df['State']==s]\n",
    "print(\"You should look at: \")\n",
    "print(r[\"College\"])\n",
    "print(\"Because price may be lower, at a cost of: \")\n",
    "print(r[\"Same_State\"])\n",
    "print(\"And because you will be close to home!\")\n"
   ]
  },
  {
   "cell_type": "code",
   "execution_count": 9,
   "metadata": {},
   "outputs": [
    {
     "name": "stdout",
     "output_type": "stream",
     "text": [
      "These colleges are state schools: \n",
      "{'Ugeorgia', 'UCSD', 'Ohio State', 'UC Davis', 'UC Berkeley', 'Pittsburgh', 'Penn State', 'UC Santa Cruz', 'UNC', 'Binghamton', 'UWisconsin', 'Virginia Tech', 'UCSB', 'Clemson', 'UMass', 'UWashington', 'Purdue', 'William and Mary', 'Florida State', 'UMichigan', 'UC Irvine', 'UMaryland', 'UVA', 'UFlorida', 'Uillinois', 'UMinnesota', 'Texas A&M', 'Rutgers', 'Utexas', 'UCLA', 'UConnecticut', 'GIT'}\n",
      "These colleges are not state schools: \n",
      "{'Clark', 'Vanderbilt', 'Case Western', 'Umiami', 'NYU', 'Rice', 'RPI', 'Duke', 'Johns Hopkins', 'Fordham', 'Harvard', 'Stevens Institute', 'George Washington', 'Pepperdine', 'Baylor', 'Emory', 'Wake Forest', 'Brandeis', 'Villanova', 'Carnegie Mellon', 'Brown', 'CIT', 'Lehigh', 'Upenn', 'Cornell', 'SMU', 'Boston College', 'Washington University', 'Northwestern', 'Tufts', 'Northeastern', 'Rochester', 'Yale', 'Uchicago', 'American', 'Boston University', 'MIT', 'Tulane', 'Notre Dame', 'USC', 'WPI', 'Georgetown', 'Brigham Young', 'Dartmouth', 'Princeton', 'Columbia', 'Syracuse', 'Stanford'}\n",
      "Enter a school to find out if it is a state school: \n"
     ]
    }
   ],
   "source": [
    "price = np.where(df['Same_State'] == df['Out of State Price'], 'same', 'different')\n",
    "df[\"price\"]=price\n",
    "\n",
    "d=df.loc[df['price']=='different']\n",
    "different=set(d[\"College\"])\n",
    "print(\"These colleges are state schools: \")\n",
    "print(different)\n",
    "\n",
    "y=df.loc[df['price']=='same']\n",
    "psame=set(y[\"College\"])\n",
    "print(\"These colleges are not state schools: \")\n",
    "print(psame)\n",
    "\n",
    "statetest=input(str(\"Enter a school to find out if it is a state school: \"))\n",
    "\n",
    "if statetest in different:\n",
    "    print(\"State school\")\n",
    "elif statetest in psame:\n",
    "    print(\"Not a state school\")"
   ]
  },
  {
   "cell_type": "code",
   "execution_count": null,
   "metadata": {
    "scrolled": true
   },
   "outputs": [],
   "source": [
    "low_pop=df.loc[df['Population']<5000]\n",
    "mid_pop = df.loc[(df.Population > 5001) & (df.Population < 15000)]\n",
    "mid_pop\n",
    "large_pop=df.loc[df['Population']>15001]\n",
    "pop_q=input(str('Do you want low, mid, or large pop?'))\n",
    "good=set()\n",
    "if pop_q==\"low\":\n",
    "    print(\"The following fit your size criteria: \")\n",
    "    print(low_pop[\"College\"])\n",
    "    good=set(low_pop[\"College\"])\n",
    "elif pop_q==\"large\":\n",
    "    print(\"The following fit your size criteria: \")\n",
    "    print(large_pop[\"College\"])\n",
    "    good=set(large_pop[\"College\"])\n",
    "else:\n",
    "    print(\"The following fit your size criteria: \")\n",
    "    print(mid_pop[\"College\"])\n",
    "    good=set(mid_pop[\"College\"])\n",
    "    "
   ]
  },
  {
   "cell_type": "code",
   "execution_count": null,
   "metadata": {},
   "outputs": [],
   "source": [
    "v=input(str(\"What is your ACT score\"))\n",
    "g=int(v)\n",
    "b=df.loc[df['ACT']<=g]\n",
    "print(\"You have a good shot at: \")\n",
    "print(b[\"College\"])\n",
    "u=df.loc[df[\"ACT\"]==g+1]\n",
    "print(\"Your reach schools are: \")\n",
    "print(u[\"College\"])"
   ]
  },
  {
   "cell_type": "code",
   "execution_count": null,
   "metadata": {},
   "outputs": [],
   "source": [
    "bystate=set(r[\"College\"])\n",
    "byact=set(b[\"College\"])\n",
    "final=bystate&byact&good\n",
    "print(\"The perfect school(s) for you are: \")\n",
    "print(final)"
   ]
  },
  {
   "cell_type": "code",
   "execution_count": null,
   "metadata": {},
   "outputs": [],
   "source": [
    "#our criteria for a perfect school is based on it being in your home state, \n",
    "#as it may be cheaper and is also close to home, desired size, and ACT less\n",
    "#than or equal to your current score"
   ]
  }
 ],
 "metadata": {
  "kernelspec": {
   "display_name": "Python 3",
   "language": "python",
   "name": "python3"
  },
  "language_info": {
   "codemirror_mode": {
    "name": "ipython",
    "version": 3
   },
   "file_extension": ".py",
   "mimetype": "text/x-python",
   "name": "python",
   "nbconvert_exporter": "python",
   "pygments_lexer": "ipython3",
   "version": "3.6.8"
  }
 },
 "nbformat": 4,
 "nbformat_minor": 2
}
